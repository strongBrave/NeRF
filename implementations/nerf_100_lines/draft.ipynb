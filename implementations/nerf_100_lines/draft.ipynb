{
 "cells": [
  {
   "cell_type": "code",
   "execution_count": 10,
   "id": "1f8ba814-cfbd-47a8-a0d6-ff2af9168f78",
   "metadata": {},
   "outputs": [],
   "source": [
    "import torch\n",
    "import torch.nn as nn"
   ]
  },
  {
   "cell_type": "code",
   "execution_count": 21,
   "id": "ba4bf67b-ea3b-45a3-a7d0-e738a0cc6f04",
   "metadata": {},
   "outputs": [],
   "source": [
    "a = torch.arange(12).view(3, 4)\n",
    "funcs = [torch.sin, torch.cos]\n",
    "L = 3\n",
    "out = [a]\n",
    "# for i in range(L):\n",
    "    "
   ]
  },
  {
   "cell_type": "code",
   "execution_count": 13,
   "id": "c217c7dd-ab72-41a8-a1af-d47148246b99",
   "metadata": {},
   "outputs": [
    {
     "data": {
      "text/plain": [
       "[tensor([[ 0,  1,  2,  3],\n",
       "         [ 4,  5,  6,  7],\n",
       "         [ 8,  9, 10, 11]]),\n",
       " tensor([[ 0.0000,  0.8415,  0.9093,  0.1411],\n",
       "         [-0.7568, -0.9589, -0.2794,  0.6570],\n",
       "         [ 0.9894,  0.4121, -0.5440, -1.0000]]),\n",
       " tensor([[ 1.0000,  0.5403, -0.4161, -0.9900],\n",
       "         [-0.6536,  0.2837,  0.9602,  0.7539],\n",
       "         [-0.1455, -0.9111, -0.8391,  0.0044]]),\n",
       " tensor([[ 0.0000,  0.9093, -0.7568, -0.2794],\n",
       "         [ 0.9894, -0.5440, -0.5366,  0.9906],\n",
       "         [-0.2879, -0.7510,  0.9129, -0.0089]]),\n",
       " tensor([[ 1.0000, -0.4161, -0.6536,  0.9602],\n",
       "         [-0.1455, -0.8391,  0.8439,  0.1367],\n",
       "         [-0.9577,  0.6603,  0.4081, -1.0000]]),\n",
       " tensor([[ 0.0000, -0.7568,  0.9894, -0.5366],\n",
       "         [-0.2879,  0.9129, -0.9056,  0.2709],\n",
       "         [ 0.5514, -0.9918,  0.7451,  0.0177]]),\n",
       " tensor([[ 1.0000, -0.6536, -0.1455,  0.8439],\n",
       "         [-0.9577,  0.4081,  0.4242, -0.9626],\n",
       "         [ 0.8342, -0.1280, -0.6669,  0.9998]])]"
      ]
     },
     "execution_count": 13,
     "metadata": {},
     "output_type": "execute_result"
    }
   ],
   "source": [
    "out"
   ]
  },
  {
   "cell_type": "code",
   "execution_count": 18,
   "id": "322b1653-2a72-471a-9a2a-a285dd3a32f8",
   "metadata": {},
   "outputs": [
    {
     "data": {
      "text/plain": [
       "tensor([ 0.,  1.,  2.,  3.,  4.,  5.,  6.,  7.,  8.,  9., 10.])"
      ]
     },
     "execution_count": 18,
     "metadata": {},
     "output_type": "execute_result"
    }
   ],
   "source": [
    "torch.linspace(0, 10, 11)"
   ]
  },
  {
   "cell_type": "code",
   "execution_count": 19,
   "id": "6ff6906a-b1bc-4a6a-b378-396e52bf7e1f",
   "metadata": {},
   "outputs": [
    {
     "data": {
      "text/plain": [
       "tensor([1.0000, 2.5000, 4.0000])"
      ]
     },
     "execution_count": 19,
     "metadata": {},
     "output_type": "execute_result"
    }
   ],
   "source": [
    "torch.linspace(2 ** 0, 2 ** (3 - 1), 3)"
   ]
  },
  {
   "cell_type": "code",
   "execution_count": 20,
   "id": "772ede90-4fee-4d23-8514-34c201f9aca8",
   "metadata": {},
   "outputs": [
    {
     "data": {
      "text/plain": [
       "tensor([1.0000, 2.5000, 4.0000])"
      ]
     },
     "execution_count": 20,
     "metadata": {},
     "output_type": "execute_result"
    }
   ],
   "source": [
    "torch.linspace(1, 2**(3-1), 3)"
   ]
  },
  {
   "cell_type": "code",
   "execution_count": null,
   "id": "3fc1485b-c315-487e-88d5-bad79e756a29",
   "metadata": {},
   "outputs": [],
   "source": []
  }
 ],
 "metadata": {
  "kernelspec": {
   "display_name": "Python 3 (ipykernel)",
   "language": "python",
   "name": "python3"
  },
  "language_info": {
   "codemirror_mode": {
    "name": "ipython",
    "version": 3
   },
   "file_extension": ".py",
   "mimetype": "text/x-python",
   "name": "python",
   "nbconvert_exporter": "python",
   "pygments_lexer": "ipython3",
   "version": "3.11.5"
  }
 },
 "nbformat": 4,
 "nbformat_minor": 5
}
